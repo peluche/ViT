{
 "cells": [
  {
   "cell_type": "markdown",
   "metadata": {},
   "source": [
    "# ViT"
   ]
  },
  {
   "cell_type": "markdown",
   "metadata": {},
   "source": [
    "paper [An Image is Worth 16x16 Words: Transformers for Image Recognition at Scale](https://arxiv.org/pdf/2010.11929.pdf)"
   ]
  },
  {
   "cell_type": "markdown",
   "metadata": {},
   "source": [
    "## setup"
   ]
  },
  {
   "cell_type": "code",
   "execution_count": 310,
   "metadata": {},
   "outputs": [],
   "source": [
    "import numpy as np\n",
    "import math\n",
    "from tqdm.notebook import tqdm\n",
    "import einops\n",
    "import copy\n",
    "import random\n",
    "import torch\n",
    "import torch.nn as nn\n",
    "import torch.nn.functional as F\n",
    "import torchvision\n",
    "import matplotlib.pyplot as plt\n",
    "from matplotlib.animation import FuncAnimation\n",
    "from enum import Enum, auto\n",
    "from collections import defaultdict\n",
    "from IPython.display import HTML\n",
    "from sklearn.decomposition import PCA\n",
    "%matplotlib inline\n",
    "\n",
    "device = 'cuda' if torch.cuda.is_available() else 'cpu'"
   ]
  },
  {
   "cell_type": "markdown",
   "metadata": {},
   "source": [
    "## data"
   ]
  },
  {
   "cell_type": "code",
   "execution_count": 311,
   "metadata": {},
   "outputs": [],
   "source": [
    "data = torch.utils.data.DataLoader(\n",
    "    torchvision.datasets.MNIST('./data', transform=torchvision.transforms.ToTensor(), download=True, train=True),\n",
    "    batch_size=128,\n",
    "    shuffle=True)\n",
    "\n",
    "data_test = torch.utils.data.DataLoader(\n",
    "    torchvision.datasets.MNIST('./data', transform=torchvision.transforms.ToTensor(), download=True, train=False),\n",
    "    batch_size=128,\n",
    "    shuffle=True)"
   ]
  },
  {
   "cell_type": "markdown",
   "metadata": {},
   "source": [
    "## helpers"
   ]
  },
  {
   "cell_type": "code",
   "execution_count": 312,
   "metadata": {},
   "outputs": [],
   "source": [
    "@torch.no_grad()\n",
    "def accuracy(model, label='test', silent=False):\n",
    "    model.eval()\n",
    "    dataset = data_test if label == 'test' else data\n",
    "    count = 0\n",
    "    correct = 0\n",
    "    for x, y in dataset:\n",
    "        x, y = x.to(device), y.to(device)\n",
    "        res = model(x).argmax(-1)\n",
    "        count += len(x)\n",
    "        correct += (res == y).float().sum()\n",
    "    acc = correct / count\n",
    "    if not silent: print(f'accuracy on {label:5}: {acc}')\n",
    "    return acc"
   ]
  },
  {
   "cell_type": "code",
   "execution_count": 313,
   "metadata": {},
   "outputs": [],
   "source": [
    "def plot(*args, n_col=None, figsize=None, block_size=3):\n",
    "    '''Plot images in a grid\n",
    "    usage: plot(img1, img2, ...)\n",
    "    optional: n_col=3, figsize=(12, 8), block_size=1\n",
    "\n",
    "    img: torch.Tensor of shape (H, W) or (C, H, W) or [(H, W), ...] or [(C, H, W), ...]\n",
    "    '''\n",
    "    imgs = []\n",
    "    for img in args:\n",
    "        if isinstance(img, torch.Tensor):\n",
    "            if img.dim() == 4: imgs.extend([img[i] for i in range(img.shape[0])])\n",
    "            else: imgs.append(img)\n",
    "\n",
    "    # flatten channels\n",
    "    imgs = [img.squeeze(0) if img.dim() == 3 else img for img in imgs]\n",
    "    imgs = [img.detach().cpu() for img in imgs]\n",
    "\n",
    "    if n_col is None: n_col = len(imgs)\n",
    "    n_row = math.ceil(len(imgs) / n_col)\n",
    "    if figsize is None: figsize = (n_col * block_size, n_row * block_size)\n",
    "    # normalize ax to 2d array\n",
    "    fig, ax = plt.subplots(n_row, n_col, figsize=figsize)\n",
    "    if n_row == 1 and n_col == 1: ax = np.array([[ax]])\n",
    "    elif n_row == 1: ax = ax.reshape((1, -1))\n",
    "    elif n_col == 1: ax = ax.reshape((-1, 1))\n",
    "    # plot\n",
    "    for i, img in enumerate(imgs):\n",
    "        idx = (i // n_col, i % n_col)\n",
    "        ax[idx].imshow(img)\n",
    "    # remove the axis\n",
    "    for i in range(n_row * n_col):\n",
    "        idx = (i // n_col, i % n_col)\n",
    "        ax[idx].set_xticks([])\n",
    "        ax[idx].set_yticks([])\n",
    "        if i >= len(imgs): ax[idx].axis('off')\n",
    "    plt.tight_layout()\n",
    "    plt.show()"
   ]
  },
  {
   "cell_type": "code",
   "execution_count": 314,
   "metadata": {},
   "outputs": [],
   "source": [
    "# test plot function\n",
    "def test_plot(scale=1):\n",
    "    imgs = next(iter(data))[0]\n",
    "    plot(imgs[0], block_size=scale)\n",
    "    plot(imgs[1], imgs[2], block_size=scale)\n",
    "    plot(imgs[3], imgs[4], n_col=scale, block_size=scale)\n",
    "    plot(imgs[5], imgs[6], imgs[7], n_col=2, block_size=scale)\n",
    "    plot(imgs[:5], n_col=3, block_size=scale)\n",
    "\n",
    "# test_plot()"
   ]
  },
  {
   "cell_type": "markdown",
   "metadata": {},
   "source": [
    "## chunk images"
   ]
  },
  {
   "cell_type": "code",
   "execution_count": 327,
   "metadata": {},
   "outputs": [
    {
     "data": {
      "image/png": "[encoded data removed]",
      "text/plain": [
       "<Figure size 300x300 with 1 Axes>"
      ]
     },
     "metadata": {},
     "output_type": "display_data"
    }
   ],
   "source": [
    "images = next(iter(data))[0][:2]\n",
    "plot(images[0])"
   ]
  },
  {
   "cell_type": "markdown",
   "metadata": {},
   "source": [
    "### manually"
   ]
  },
  {
   "cell_type": "code",
   "execution_count": 328,
   "metadata": {},
   "outputs": [
    {
     "data": {
      "image/png": "[encoded data removed]",
      "text/plain": [
       "<Figure size 800x400 with 4 Axes>"
      ]
     },
     "metadata": {},
     "output_type": "display_data"
    },
    {
     "data": {
      "image/png": "[encoded data removed]",
      "text/plain": [
       "<Figure size 400x800 with 4 Axes>"
      ]
     },
     "metadata": {},
     "output_type": "display_data"
    },
    {
     "data": {
      "image/png": "[encoded data removed]",
      "text/plain": [
       "<Figure size 400x400 with 16 Axes>"
      ]
     },
     "metadata": {},
     "output_type": "display_data"
    }
   ],
   "source": [
    "b, c, h, w = images.shape\n",
    "# cut into horizontal strips\n",
    "horizontal = images.view(b, c, 4, h // 4, w).permute(0, 2, 1, 3, 4)\n",
    "plot(horizontal[0], figsize=(8, 4), n_col=1)\n",
    "# cut into vertical strips\n",
    "vertical = images.view(b, c, h, 4, w // 4).permute(0, 3, 1, 2, 4)\n",
    "plot(vertical[0], figsize=(4, 8))\n",
    "# cut into tiles\n",
    "tile_size = 7\n",
    "tiles = images.view(b, c, h // tile_size, tile_size, w // tile_size, tile_size).permute(0, 2, 4, 1, 3, 5).reshape(b, -1, c, tile_size, tile_size)\n",
    "plot(tiles[0], n_col=4, block_size=1)"
   ]
  },
  {
   "cell_type": "markdown",
   "metadata": {},
   "source": [
    "### einops"
   ]
  },
  {
   "cell_type": "code",
   "execution_count": 329,
   "metadata": {},
   "outputs": [
    {
     "data": {
      "image/png": "[encoded data removed]",
      "text/plain": [
       "<Figure size 800x400 with 4 Axes>"
      ]
     },
     "metadata": {},
     "output_type": "display_data"
    },
    {
     "data": {
      "image/png": "[encoded data removed]",
      "text/plain": [
       "<Figure size 400x800 with 4 Axes>"
      ]
     },
     "metadata": {},
     "output_type": "display_data"
    },
    {
     "data": {
      "image/png": "[encoded data removed]",
      "text/plain": [
       "<Figure size 400x400 with 16 Axes>"
      ]
     },
     "metadata": {},
     "output_type": "display_data"
    }
   ],
   "source": [
    "# cut into horizontal strips\n",
    "horizontal = einops.rearrange(images, 'b c (k h) w -> b k c h w', k=4)\n",
    "plot(horizontal[0], figsize=(8, 4), n_col=1)\n",
    "# cut into vertical strips\n",
    "vertical = einops.rearrange(images, 'b c h (k w) -> b k c h w', k=4)\n",
    "plot(vertical[0], figsize=(4, 8))\n",
    "# cut into tiles\n",
    "tile_size = 7\n",
    "tiles = einops.rearrange(images, 'b c (h t1) (w t2) -> b (h w) c t1 t2', t1=tile_size, t2=tile_size)\n",
    "plot(tiles[0], n_col=4, block_size=1)"
   ]
  },
  {
   "cell_type": "markdown",
   "metadata": {},
   "source": [
    "## encoder"
   ]
  },
  {
   "cell_type": "code",
   "execution_count": 318,
   "metadata": {},
   "outputs": [],
   "source": [
    "N_HEADS = 1\n",
    "N_BLOCKS = 2\n",
    "VOCAB_SIZE = 10\n",
    "EMBED_SIZE = 16\n",
    "HIDDEN_SIZE = 32\n",
    "IMG_SIZE = 28\n",
    "CHANNEL = 1\n",
    "TILE_SIZE = 7\n",
    "assert IMG_SIZE % TILE_SIZE == 0\n",
    "CONTEXT_SIZE = 1 + (IMG_SIZE // TILE_SIZE) ** 2\n",
    "LEARNING_RATE = 3e-4\n",
    "DROPOUT = 0.1"
   ]
  },
  {
   "cell_type": "code",
   "execution_count": 319,
   "metadata": {},
   "outputs": [],
   "source": [
    "def get_sinusoidal_positional_encoding(context_size=CONTEXT_SIZE, embed_size=EMBED_SIZE):\n",
    "  position = torch.arange(context_size).unsqueeze(1)\n",
    "  div_term = torch.exp(torch.arange(0, embed_size, 2) * -(math.log(10000.0) / embed_size))\n",
    "  positional_encoding = torch.zeros(context_size, embed_size)\n",
    "  positional_encoding[:, 0::2] = torch.sin(position * div_term)\n",
    "  positional_encoding[:, 1::2] = torch.cos(position * div_term)\n",
    "  return positional_encoding.to(device)"
   ]
  },
  {
   "cell_type": "code",
   "execution_count": 320,
   "metadata": {},
   "outputs": [],
   "source": [
    "activations = {}\n",
    "\n",
    "class Positional(Enum):\n",
    "  NONE = auto()\n",
    "  SINUSOIDAL = auto()\n",
    "  LEARNED = auto()\n",
    "\n",
    "class MultiheadAttention(nn.Module):\n",
    "  def __init__(self, n_heads, embed_size, positional, dropout, n_block=0):\n",
    "    super().__init__()\n",
    "    assert embed_size % n_heads == 0, f'{embed_size=} should be divisible by {n_heads=}'\n",
    "    self.n_heads = n_heads\n",
    "    self.embed_size = embed_size\n",
    "    self.positional = positional\n",
    "    self.dropout_rate = dropout\n",
    "    self.n_block = n_block\n",
    "    self.qkv = nn.Linear(embed_size, embed_size * 3, bias=False) # generate Q, K, V all at once\n",
    "    self.dropout = nn.Dropout(dropout)\n",
    "    self.ln = nn.LayerNorm(embed_size)\n",
    "\n",
    "  def forward(self, x):\n",
    "    B, C, E = x.shape\n",
    "    # pre-layernorm\n",
    "    x = self.ln(x)\n",
    "    q, k, v = self.qkv(x).chunk(3, dim=-1)\n",
    "    # split heads\n",
    "    q = q.view(B, C, self.n_heads, self.embed_size // self.n_heads).transpose(1, 2)\n",
    "    k = k.view(B, C, self.n_heads, self.embed_size // self.n_heads).transpose(1, 2)\n",
    "    v = v.view(B, C, self.n_heads, self.embed_size // self.n_heads).transpose(1, 2)\n",
    "    # by hand\n",
    "    correlation = q @ k.transpose(-2, -1)\n",
    "    correlation = correlation / math.sqrt(k.shape[-1])\n",
    "    correlation = F.softmax(correlation, dim=-1)\n",
    "    activations[self.n_block] = correlation.detach()\n",
    "    correlation = F.dropout(correlation, p=self.dropout_rate, training=self.training)\n",
    "    y = correlation @ v\n",
    "    # combine heads\n",
    "    y = y.transpose(1, 2).contiguous().view(B, C, self.embed_size)\n",
    "    y = self.dropout(y)\n",
    "    return y\n",
    "\n",
    "class Block(nn.Module):\n",
    "  def __init__(self, positional, n_heads, embed_size, hidden_size, dropout, n_block):\n",
    "    super().__init__()\n",
    "    self.block = n_block\n",
    "    self.attention = MultiheadAttention(n_heads, embed_size, positional=positional, dropout=dropout, n_block=n_block)\n",
    "    self.ff = nn.Sequential(\n",
    "      nn.LayerNorm(embed_size), # pre-layernorm\n",
    "      nn.Linear(embed_size, hidden_size),\n",
    "      nn.ReLU(),\n",
    "      nn.Linear(hidden_size, embed_size),\n",
    "      nn.Dropout(dropout)\n",
    "    )\n",
    "\n",
    "  def forward(self, x):\n",
    "    x = x + self.attention(x)\n",
    "    x = x + self.ff(x)\n",
    "    return x\n",
    "\n",
    "class Net(nn.Module):\n",
    "  def __init__(self, positional=Positional.LEARNED, n_heads=N_HEADS, n_blocks=N_BLOCKS, embed_size=EMBED_SIZE, hidden_size=HIDDEN_SIZE, vocab_size=VOCAB_SIZE, context_size=CONTEXT_SIZE, dropout=DROPOUT, tile_size=TILE_SIZE):\n",
    "    super().__init__()\n",
    "    self.positional = positional\n",
    "    self.context_size = context_size\n",
    "    self.tile_size = tile_size\n",
    "    # net\n",
    "    if positional == Positional.SINUSOIDAL: self.positional_embedding = get_sinusoidal_positional_encoding()\n",
    "    elif positional == Positional.LEARNED: self.positional_embedding = nn.Embedding(context_size, embed_size)      \n",
    "    else: self.positional_embedding = torch.tensor(0.).to(device)\n",
    "    self.tile_embedding = nn.Linear(TILE_SIZE * TILE_SIZE * CHANNEL, embed_size)\n",
    "    self.cls_token = nn.Parameter(torch.randn(1, 1, embed_size))\n",
    "    self.blocks = nn.Sequential(*[Block(positional, n_heads, embed_size, hidden_size, dropout, i) for i in range(n_blocks)])\n",
    "    self.head = nn.Linear(embed_size, vocab_size)\n",
    "\n",
    "  def forward(self, x):\n",
    "    # (batch_size, channel, height, width)\n",
    "    # split into tiles/patches/chunks\n",
    "    x = einops.rearrange(x, 'b c (h t1) (w t2) -> b (h w) (c t1 t2)', t1=self.tile_size, t2=self.tile_size)\n",
    "    # embed\n",
    "    x = self.tile_embedding(x)\n",
    "    # add cls token\n",
    "    cls_token = self.cls_token.expand(x.shape[0], -1, -1)\n",
    "    x = torch.cat((cls_token, x), dim=1)\n",
    "    # positional encoding\n",
    "    x = x + self.get_positional_embedding()\n",
    "    # attention and ff\n",
    "    x = self.blocks(x)\n",
    "    # head\n",
    "    x = self.head(x)\n",
    "    # only look at first token:\n",
    "    x = x[:, 0, :]\n",
    "    return x\n",
    "  \n",
    "  def get_positional_embedding(self):\n",
    "    if self.positional == Positional.LEARNED:\n",
    "      return self.positional_embedding(torch.arange(0, self.context_size).to(device))\n",
    "    return self.positional_embedding"
   ]
  },
  {
   "cell_type": "markdown",
   "metadata": {},
   "source": [
    "## train"
   ]
  },
  {
   "cell_type": "code",
   "execution_count": 321,
   "metadata": {},
   "outputs": [],
   "source": [
    "model = Net(positional=Positional.LEARNED, n_heads=4, n_blocks=3).to(device)"
   ]
  },
  {
   "cell_type": "code",
   "execution_count": 322,
   "metadata": {},
   "outputs": [
    {
     "data": {
      "application/vnd.jupyter.widget-view+json": {
       "model_id": "d68e02aa87b54ad19207898f4e4926d8",
       "version_major": 2,
       "version_minor": 0
      },
      "text/plain": [
       "  0%|          | 0/10 [00:00<?, ?it/s]"
      ]
     },
     "metadata": {},
     "output_type": "display_data"
    },
    {
     "name": "stdout",
     "output_type": "stream",
     "text": [
      "    0 1.2476365566253662\n",
      "    1 0.730360209941864\n",
      "    2 0.6190638542175293\n",
      "    3 0.5641052722930908\n",
      "    4 0.36639341711997986\n",
      "    5 0.29912108182907104\n",
      "    6 0.3246617019176483\n",
      "    7 0.18145805597305298\n",
      "    8 0.38408026099205017\n",
      "    9 0.24004577100276947\n"
     ]
    }
   ],
   "source": [
    "def train(model, epochs, lr=LEARNING_RATE, do_log=True, log_every=1):\n",
    "  model.train()\n",
    "  opt = torch.optim.Adam(model.parameters(), lr=lr)\n",
    "\n",
    "  for epoch in tqdm(range(epochs)):\n",
    "    for X, Y in data:\n",
    "      X, Y = X.to(device), Y.to(device)\n",
    "      out = model(X)\n",
    "      loss = F.cross_entropy(out, Y)\n",
    "      opt.zero_grad()\n",
    "      loss.backward()\n",
    "      opt.step()\n",
    "    if do_log and epoch % log_every == 0:\n",
    "      print(f'{epoch:5} {loss.item()}')\n",
    "\n",
    "train(model, epochs=10)"
   ]
  },
  {
   "cell_type": "code",
   "execution_count": 323,
   "metadata": {},
   "outputs": [
    {
     "name": "stdout",
     "output_type": "stream",
     "text": [
      "accuracy on test : 0.9441999793052673\n",
      "accuracy on train: 0.9437333345413208\n"
     ]
    }
   ],
   "source": [
    "_ = accuracy(model)\n",
    "_ = accuracy(model, label='train')"
   ]
  },
  {
   "cell_type": "markdown",
   "metadata": {},
   "source": [
    "## visualize attention"
   ]
  },
  {
   "cell_type": "code",
   "execution_count": 324,
   "metadata": {},
   "outputs": [
    {
     "data": {
      "image/png": "[encoded data removed]",
      "text/plain": [
       "<Figure size 300x300 with 1 Axes>"
      ]
     },
     "metadata": {},
     "output_type": "display_data"
    },
    {
     "data": {
      "image/png": "[encoded data removed]",
      "text/plain": [
       "<Figure size 300x300 with 16 Axes>"
      ]
     },
     "metadata": {},
     "output_type": "display_data"
    },
    {
     "name": "stdout",
     "output_type": "stream",
     "text": [
      "2\n"
     ]
    },
    {
     "data": {
      "image/png": "[encoded data removed]",
      "text/plain": [
       "<Figure size 1200x400 with 4 Axes>"
      ]
     },
     "metadata": {},
     "output_type": "display_data"
    },
    {
     "data": {
      "image/png": "[encoded data removed]",
      "text/plain": [
       "<Figure size 1200x400 with 4 Axes>"
      ]
     },
     "metadata": {},
     "output_type": "display_data"
    },
    {
     "data": {
      "image/png": "[encoded data removed]",
      "text/plain": [
       "<Figure size 1200x400 with 4 Axes>"
      ]
     },
     "metadata": {},
     "output_type": "display_data"
    }
   ],
   "source": [
    "@torch.no_grad()\n",
    "def visualize_attention(model, img):\n",
    "    model.eval()\n",
    "    plot(img)\n",
    "    tiles = einops.rearrange(img, 'c (h t1) (w t2) -> (h w) c t1 t2', t1=TILE_SIZE, t2=TILE_SIZE)\n",
    "    plot(tiles, n_col=4, block_size=0.75)\n",
    "    img = img.to(device).unsqueeze(0)\n",
    "    out = model(img).argmax(-1).item()\n",
    "    print(out)\n",
    "\n",
    "    for block, acts in activations.items():\n",
    "        if acts.dim() == 4:\n",
    "            acts = acts.squeeze(0)\n",
    "        repeat = acts.shape[0]\n",
    "        fig, ax = plt.subplots(1, repeat, figsize=(12, 4))\n",
    "        if repeat == 1: ax = np.array([ax])\n",
    "        for i in range(repeat):\n",
    "            ax[i].imshow(acts[i].cpu())\n",
    "            ax[i].set_title(f'block {block} head {i}')\n",
    "\n",
    "visualize_attention(model, next(iter(data))[0][0])"
   ]
  },
  {
   "cell_type": "markdown",
   "metadata": {},
   "source": [
    "## visualize positional embeddings"
   ]
  },
  {
   "cell_type": "code",
   "execution_count": 325,
   "metadata": {},
   "outputs": [
    {
     "data": {
      "image/png": "[encoded data removed]",
      "text/plain": [
       "<Figure size 400x400 with 16 Axes>"
      ]
     },
     "metadata": {},
     "output_type": "display_data"
    }
   ],
   "source": [
    "@torch.no_grad()\n",
    "def visualize_positional_embeddings(emb):\n",
    "    # strip cls token\n",
    "    emb = emb[1:]\n",
    "    emb = einops.rearrange(emb, 'n (k1 k2) -> n 1 k1 k2', k1=4)\n",
    "    plot(emb, n_col=4, block_size=1)\n",
    "\n",
    "visualize_positional_embeddings(model.get_positional_embedding())"
   ]
  }
 ],
 "metadata": {
  "kernelspec": {
   "display_name": "venv_hf_nlp",
   "language": "python",
   "name": "venv_hf_nlp"
  },
  "language_info": {
   "codemirror_mode": {
    "name": "ipython",
    "version": 3
   },
   "file_extension": ".py",
   "mimetype": "text/x-python",
   "name": "python",
   "nbconvert_exporter": "python",
   "pygments_lexer": "ipython3",
   "version": "3.11.2"
  }
 },
 "nbformat": 4,
 "nbformat_minor": 2
}
