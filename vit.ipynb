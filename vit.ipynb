{
 "cells": [
  {
   "cell_type": "markdown",
   "metadata": {},
   "source": [
    "# ViT"
   ]
  },
  {
   "cell_type": "markdown",
   "metadata": {},
   "source": [
    "paper [An Image is Worth 16x16 Words: Transformers for Image Recognition at Scale](https://arxiv.org/pdf/2010.11929.pdf)"
   ]
  },
  {
   "cell_type": "markdown",
   "metadata": {},
   "source": [
    "## setup"
   ]
  },
  {
   "cell_type": "code",
   "execution_count": 1,
   "metadata": {},
   "outputs": [],
   "source": [
    "import numpy as np\n",
    "import math\n",
    "from tqdm.notebook import tqdm\n",
    "import einops\n",
    "import copy\n",
    "import random\n",
    "import torch\n",
    "import torch.nn as nn\n",
    "import torch.nn.functional as F\n",
    "import torchvision\n",
    "import matplotlib.pyplot as plt\n",
    "from matplotlib.animation import FuncAnimation\n",
    "from enum import Enum, auto\n",
    "from collections import defaultdict\n",
    "from IPython.display import HTML\n",
    "from sklearn.decomposition import PCA\n",
    "%matplotlib inline\n",
    "\n",
    "device = 'cuda' if torch.cuda.is_available() else 'cpu'"
   ]
  },
  {
   "cell_type": "markdown",
   "metadata": {},
   "source": [
    "## data"
   ]
  },
  {
   "cell_type": "code",
   "execution_count": 2,
   "metadata": {},
   "outputs": [],
   "source": [
    "data = torch.utils.data.DataLoader(\n",
    "    torchvision.datasets.MNIST('./data', transform=torchvision.transforms.ToTensor(), download=True, train=True),\n",
    "    batch_size=128,\n",
    "    shuffle=True)\n",
    "\n",
    "data_test = torch.utils.data.DataLoader(\n",
    "    torchvision.datasets.MNIST('./data', transform=torchvision.transforms.ToTensor(), download=True, train=False),\n",
    "    batch_size=128,\n",
    "    shuffle=True)"
   ]
  },
  {
   "cell_type": "markdown",
   "metadata": {},
   "source": [
    "## helpers"
   ]
  },
  {
   "cell_type": "code",
   "execution_count": 3,
   "metadata": {},
   "outputs": [],
   "source": [
    "@torch.no_grad()\n",
    "def accuracy(model, label='test', silent=False):\n",
    "    model.eval()\n",
    "    dataset = data_test if label == 'test' else data\n",
    "    count = 0\n",
    "    correct = 0\n",
    "    for x, y in dataset:\n",
    "        x, y = x.to(device), y.to(device)\n",
    "        res = model(x).argmax(-1)\n",
    "        count += len(x)\n",
    "        correct += (res == y).float().sum()\n",
    "    acc = correct / count\n",
    "    if not silent: print(f'accuracy on {label:5}: {acc}')\n",
    "    return acc"
   ]
  },
  {
   "cell_type": "code",
   "execution_count": 4,
   "metadata": {},
   "outputs": [],
   "source": [
    "def plot(*args, n_col=None, figsize=None, block_size=3):\n",
    "    '''Plot images in a grid\n",
    "    usage: plot(img1, img2, ...)\n",
    "    optional: n_col=3, figsize=(12, 8), block_size=1\n",
    "\n",
    "    img: torch.Tensor of shape (H, W) or (C, H, W) or [(H, W), ...] or [(C, H, W), ...]\n",
    "    '''\n",
    "    imgs = []\n",
    "    for img in args:\n",
    "        if isinstance(img, torch.Tensor):\n",
    "            if img.dim() == 4: imgs.extend([img[i] for i in range(img.shape[0])])\n",
    "            else: imgs.append(img)\n",
    "\n",
    "    # flatten channels\n",
    "    imgs = [img.squeeze(0) if img.dim() == 3 else img for img in imgs]\n",
    "    imgs = [img.detach().cpu() for img in imgs]\n",
    "\n",
    "    if n_col is None: n_col = len(imgs)\n",
    "    n_row = math.ceil(len(imgs) / n_col)\n",
    "    if figsize is None: figsize = (n_col * block_size, n_row * block_size)\n",
    "    # normalize ax to 2d array\n",
    "    fig, ax = plt.subplots(n_row, n_col, figsize=figsize)\n",
    "    if n_row == 1 and n_col == 1: ax = np.array([[ax]])\n",
    "    elif n_row == 1: ax = ax.reshape((1, -1))\n",
    "    elif n_col == 1: ax = ax.reshape((-1, 1))\n",
    "    # plot\n",
    "    for i, img in enumerate(imgs):\n",
    "        idx = (i // n_col, i % n_col)\n",
    "        ax[idx].imshow(img)\n",
    "    # remove the axis\n",
    "    for i in range(n_row * n_col):\n",
    "        idx = (i // n_col, i % n_col)\n",
    "        ax[idx].set_xticks([])\n",
    "        ax[idx].set_yticks([])\n",
    "        if i >= len(imgs): ax[idx].axis('off')\n",
    "    plt.tight_layout()\n",
    "    plt.show()"
   ]
  },
  {
   "cell_type": "code",
   "execution_count": 5,
   "metadata": {},
   "outputs": [],
   "source": [
    "# test plot function\n",
    "def test_plot(scale=1):\n",
    "    imgs = next(iter(data))[0]\n",
    "    plot(imgs[0], block_size=scale)\n",
    "    plot(imgs[1], imgs[2], block_size=scale)\n",
    "    plot(imgs[3], imgs[4], n_col=scale, block_size=scale)\n",
    "    plot(imgs[5], imgs[6], imgs[7], n_col=2, block_size=scale)\n",
    "    plot(imgs[:5], n_col=3, block_size=scale)\n",
    "\n",
    "# test_plot()"
   ]
  },
  {
   "cell_type": "markdown",
   "metadata": {},
   "source": [
    "## chunk images"
   ]
  },
  {
   "cell_type": "code",
   "execution_count": 6,
   "metadata": {},
   "outputs": [
    {
     "data": {
      "image/png": "[encoded data removed]",
      "text/plain": [
       "<Figure size 300x300 with 1 Axes>"
      ]
     },
     "metadata": {},
     "output_type": "display_data"
    }
   ],
   "source": [
    "images = next(iter(data))[0][:2]\n",
    "plot(images[0])"
   ]
  },
  {
   "cell_type": "markdown",
   "metadata": {},
   "source": [
    "### manually"
   ]
  },
  {
   "cell_type": "code",
   "execution_count": 7,
   "metadata": {},
   "outputs": [
    {
     "data": {
      "image/png": "[encoded data removed]",
      "text/plain": [
       "<Figure size 800x400 with 4 Axes>"
      ]
     },
     "metadata": {},
     "output_type": "display_data"
    },
    {
     "data": {
      "image/png": "[encoded data removed]",
      "text/plain": [
       "<Figure size 400x800 with 4 Axes>"
      ]
     },
     "metadata": {},
     "output_type": "display_data"
    },
    {
     "data": {
      "image/png": "[encoded data removed]",
      "text/plain": [
       "<Figure size 400x400 with 16 Axes>"
      ]
     },
     "metadata": {},
     "output_type": "display_data"
    }
   ],
   "source": [
    "b, c, h, w = images.shape\n",
    "# cut into horizontal strips\n",
    "horizontal = images.view(b, c, 4, h // 4, w).permute(0, 2, 1, 3, 4)\n",
    "plot(horizontal[0], figsize=(8, 4), n_col=1)\n",
    "# cut into vertical strips\n",
    "vertical = images.view(b, c, h, 4, w // 4).permute(0, 3, 1, 2, 4)\n",
    "plot(vertical[0], figsize=(4, 8))\n",
    "# cut into tiles\n",
    "tile_size = 7\n",
    "tiles = images.view(b, c, h // tile_size, tile_size, w // tile_size, tile_size).permute(0, 2, 4, 1, 3, 5).reshape(b, -1, c, tile_size, tile_size)\n",
    "plot(tiles[0], n_col=4, block_size=1)"
   ]
  },
  {
   "cell_type": "markdown",
   "metadata": {},
   "source": [
    "### einops"
   ]
  },
  {
   "cell_type": "code",
   "execution_count": 8,
   "metadata": {},
   "outputs": [
    {
     "data": {
      "image/png": "[encoded data removed]",
      "text/plain": [
       "<Figure size 800x400 with 4 Axes>"
      ]
     },
     "metadata": {},
     "output_type": "display_data"
    },
    {
     "data": {
      "image/png": "[encoded data removed]",
      "text/plain": [
       "<Figure size 400x800 with 4 Axes>"
      ]
     },
     "metadata": {},
     "output_type": "display_data"
    },
    {
     "data": {
      "image/png": "[encoded data removed]",
      "text/plain": [
       "<Figure size 400x400 with 16 Axes>"
      ]
     },
     "metadata": {},
     "output_type": "display_data"
    }
   ],
   "source": [
    "# cut into horizontal strips\n",
    "horizontal = einops.rearrange(images, 'b c (k h) w -> b k c h w', k=4)\n",
    "plot(horizontal[0], figsize=(8, 4), n_col=1)\n",
    "# cut into vertical strips\n",
    "vertical = einops.rearrange(images, 'b c h (k w) -> b k c h w', k=4)\n",
    "plot(vertical[0], figsize=(4, 8))\n",
    "# cut into tiles\n",
    "tile_size = 7\n",
    "tiles = einops.rearrange(images, 'b c (h t1) (w t2) -> b (h w) c t1 t2', t1=tile_size, t2=tile_size)\n",
    "plot(tiles[0], n_col=4, block_size=1)"
   ]
  },
  {
   "cell_type": "markdown",
   "metadata": {},
   "source": [
    "## encoder"
   ]
  },
  {
   "cell_type": "code",
   "execution_count": 9,
   "metadata": {},
   "outputs": [],
   "source": [
    "N_HEADS = 1\n",
    "N_BLOCKS = 2\n",
    "VOCAB_SIZE = 10\n",
    "EMBED_SIZE = 16\n",
    "HIDDEN_SIZE = 32\n",
    "IMG_SIZE = 28\n",
    "CHANNEL = 1\n",
    "TILE_SIZE = 7\n",
    "assert IMG_SIZE % TILE_SIZE == 0\n",
    "CONTEXT_SIZE = 1 + (IMG_SIZE // TILE_SIZE) ** 2\n",
    "LEARNING_RATE = 3e-4\n",
    "DROPOUT = 0.1"
   ]
  },
  {
   "cell_type": "code",
   "execution_count": 10,
   "metadata": {},
   "outputs": [],
   "source": [
    "def get_sinusoidal_positional_encoding(context_size=CONTEXT_SIZE, embed_size=EMBED_SIZE):\n",
    "  position = torch.arange(context_size).unsqueeze(1)\n",
    "  div_term = torch.exp(torch.arange(0, embed_size, 2) * -(math.log(10000.0) / embed_size))\n",
    "  positional_encoding = torch.zeros(context_size, embed_size)\n",
    "  positional_encoding[:, 0::2] = torch.sin(position * div_term)\n",
    "  positional_encoding[:, 1::2] = torch.cos(position * div_term)\n",
    "  return positional_encoding.to(device)"
   ]
  },
  {
   "cell_type": "code",
   "execution_count": 11,
   "metadata": {},
   "outputs": [],
   "source": [
    "activations = {}\n",
    "\n",
    "class Positional(Enum):\n",
    "  NONE = auto()\n",
    "  SINUSOIDAL = auto()\n",
    "  LEARNED = auto()\n",
    "\n",
    "class MultiheadAttention(nn.Module):\n",
    "  def __init__(self, n_heads, embed_size, positional, dropout, n_block=0):\n",
    "    super().__init__()\n",
    "    assert embed_size % n_heads == 0, f'{embed_size=} should be divisible by {n_heads=}'\n",
    "    self.n_heads = n_heads\n",
    "    self.embed_size = embed_size\n",
    "    self.positional = positional\n",
    "    self.dropout_rate = dropout\n",
    "    self.n_block = n_block\n",
    "    self.qkv = nn.Linear(embed_size, embed_size * 3, bias=False) # generate Q, K, V all at once\n",
    "    self.dropout = nn.Dropout(dropout)\n",
    "    self.ln = nn.LayerNorm(embed_size)\n",
    "\n",
    "  def forward(self, x):\n",
    "    B, C, E = x.shape\n",
    "    # pre-layernorm\n",
    "    x = self.ln(x)\n",
    "    q, k, v = self.qkv(x).chunk(3, dim=-1)\n",
    "    # split heads\n",
    "    q = q.view(B, C, self.n_heads, self.embed_size // self.n_heads).transpose(1, 2)\n",
    "    k = k.view(B, C, self.n_heads, self.embed_size // self.n_heads).transpose(1, 2)\n",
    "    v = v.view(B, C, self.n_heads, self.embed_size // self.n_heads).transpose(1, 2)\n",
    "    # by hand\n",
    "    correlation = q @ k.transpose(-2, -1)\n",
    "    correlation = correlation / math.sqrt(k.shape[-1])\n",
    "    correlation = F.softmax(correlation, dim=-1)\n",
    "    activations[self.n_block] = correlation.detach()\n",
    "    correlation = F.dropout(correlation, p=self.dropout_rate, training=self.training)\n",
    "    y = correlation @ v\n",
    "    # combine heads\n",
    "    y = y.transpose(1, 2).contiguous().view(B, C, self.embed_size)\n",
    "    y = self.dropout(y)\n",
    "    return y\n",
    "\n",
    "class Block(nn.Module):\n",
    "  def __init__(self, positional, n_heads, embed_size, hidden_size, dropout, n_block):\n",
    "    super().__init__()\n",
    "    self.block = n_block\n",
    "    self.attention = MultiheadAttention(n_heads, embed_size, positional=positional, dropout=dropout, n_block=n_block)\n",
    "    self.ff = nn.Sequential(\n",
    "      nn.LayerNorm(embed_size), # pre-layernorm\n",
    "      nn.Linear(embed_size, hidden_size),\n",
    "      nn.ReLU(),\n",
    "      nn.Linear(hidden_size, embed_size),\n",
    "      nn.Dropout(dropout)\n",
    "    )\n",
    "\n",
    "  def forward(self, x):\n",
    "    x = x + self.attention(x)\n",
    "    x = x + self.ff(x)\n",
    "    return x\n",
    "\n",
    "class Net(nn.Module):\n",
    "  def __init__(self, positional=Positional.LEARNED, n_heads=N_HEADS, n_blocks=N_BLOCKS, embed_size=EMBED_SIZE, hidden_size=HIDDEN_SIZE, vocab_size=VOCAB_SIZE, context_size=CONTEXT_SIZE, dropout=DROPOUT, tile_size=TILE_SIZE):\n",
    "    super().__init__()\n",
    "    self.positional = positional\n",
    "    self.context_size = context_size\n",
    "    self.tile_size = tile_size\n",
    "    # net\n",
    "    if positional == Positional.SINUSOIDAL: self.positional_embedding = get_sinusoidal_positional_encoding()\n",
    "    elif positional == Positional.LEARNED: self.positional_embedding = nn.Embedding(context_size, embed_size)      \n",
    "    else: self.positional_embedding = torch.tensor(0.).to(device)\n",
    "    self.tile_embedding = nn.Linear(TILE_SIZE * TILE_SIZE * CHANNEL, embed_size)\n",
    "    self.cls_token = nn.Parameter(torch.randn(1, 1, embed_size))\n",
    "    self.blocks = nn.Sequential(*[Block(positional, n_heads, embed_size, hidden_size, dropout, i) for i in range(n_blocks)])\n",
    "    self.head = nn.Linear(embed_size, vocab_size)\n",
    "\n",
    "  def forward(self, x):\n",
    "    # (batch_size, channel, height, width)\n",
    "    # split into tiles/patches/chunks\n",
    "    x = einops.rearrange(x, 'b c (h t1) (w t2) -> b (h w) (c t1 t2)', t1=self.tile_size, t2=self.tile_size)\n",
    "    # embed\n",
    "    x = self.tile_embedding(x)\n",
    "    # add cls token\n",
    "    cls_token = self.cls_token.expand(x.shape[0], -1, -1)\n",
    "    x = torch.cat((cls_token, x), dim=1)\n",
    "    # positional encoding\n",
    "    x = x + self.get_positional_embedding()\n",
    "    # attention and ff\n",
    "    x = self.blocks(x)\n",
    "    # head\n",
    "    x = self.head(x)\n",
    "    # only look at first token:\n",
    "    x = x[:, 0, :]\n",
    "    return x\n",
    "  \n",
    "  def get_positional_embedding(self):\n",
    "    if self.positional == Positional.LEARNED:\n",
    "      return self.positional_embedding(torch.arange(0, self.context_size).to(device))\n",
    "    return self.positional_embedding"
   ]
  },
  {
   "cell_type": "markdown",
   "metadata": {},
   "source": [
    "## train"
   ]
  },
  {
   "cell_type": "code",
   "execution_count": 12,
   "metadata": {},
   "outputs": [],
   "source": [
    "model = Net(positional=Positional.LEARNED, n_heads=1, n_blocks=2).to(device)"
   ]
  },
  {
   "cell_type": "code",
   "execution_count": 32,
   "metadata": {},
   "outputs": [
    {
     "data": {
      "application/vnd.jupyter.widget-view+json": {
       "model_id": "f90f043abcec422d81f12a9eb59e778e",
       "version_major": 2,
       "version_minor": 0
      },
      "text/plain": [
       "  0%|          | 0/100 [00:00<?, ?it/s]"
      ]
     },
     "metadata": {},
     "output_type": "display_data"
    },
    {
     "name": "stdout",
     "output_type": "stream",
     "text": [
      "    0 0.23382984101772308\n",
      "    1 0.11656459420919418\n",
      "    2 0.10125605016946793\n",
      "    3 0.11283817887306213\n",
      "    4 0.13406218588352203\n",
      "    5 0.07572723180055618\n",
      "    6 0.050447121262550354\n",
      "    7 0.21180517971515656\n",
      "    8 0.13576488196849823\n",
      "    9 0.08161057531833649\n",
      "   10 0.13713930547237396\n",
      "   11 0.1735255867242813\n",
      "   12 0.12358894944190979\n",
      "   13 0.10351476073265076\n",
      "   14 0.07546748965978622\n",
      "   15 0.28030678629875183\n",
      "   16 0.1692264825105667\n",
      "   17 0.12150406837463379\n",
      "   18 0.5198782086372375\n",
      "   19 0.06831980496644974\n",
      "   20 0.0773037001490593\n",
      "   21 0.20818661153316498\n",
      "   22 0.05818869173526764\n",
      "   23 0.16500107944011688\n",
      "   24 0.145308718085289\n",
      "   25 0.09883908182382584\n",
      "   26 0.10925372689962387\n",
      "   27 0.10480017215013504\n",
      "   28 0.2521746754646301\n",
      "   29 0.20851004123687744\n",
      "   30 0.27052101492881775\n",
      "   31 0.14196015894412994\n",
      "   32 0.06452163308858871\n",
      "   33 0.13059531152248383\n",
      "   34 0.17680716514587402\n",
      "   35 0.054641544818878174\n",
      "   36 0.09087416529655457\n",
      "   37 0.14860038459300995\n",
      "   38 0.16702747344970703\n",
      "   39 0.17343156039714813\n",
      "   40 0.22370894253253937\n",
      "   41 0.2815515995025635\n",
      "   42 0.10094788670539856\n",
      "   43 0.08474806696176529\n",
      "   44 0.2635151445865631\n",
      "   45 0.07350549846887589\n",
      "   46 0.1103205680847168\n",
      "   47 0.16434694826602936\n",
      "   48 0.10706105083227158\n",
      "   49 0.08886584639549255\n",
      "   50 0.13083045184612274\n",
      "   51 0.12045770138502121\n",
      "   52 0.23260396718978882\n",
      "   53 0.1632126271724701\n",
      "   54 0.2289794683456421\n",
      "   55 0.11992200464010239\n",
      "   56 0.14590899646282196\n",
      "   57 0.15921999514102936\n",
      "   58 0.11690894514322281\n",
      "   59 0.10535173863172531\n",
      "   60 0.15744249522686005\n",
      "   61 0.08268234133720398\n",
      "   62 0.14312146604061127\n",
      "   63 0.10104969143867493\n",
      "   64 0.1508191078901291\n",
      "   65 0.1670513153076172\n",
      "   66 0.14973823726177216\n",
      "   67 0.17782972753047943\n",
      "   68 0.12472545355558395\n",
      "   69 0.2301122099161148\n",
      "   70 0.1529451608657837\n",
      "   71 0.10061699151992798\n",
      "   72 0.13519565761089325\n",
      "   73 0.19670026004314423\n",
      "   74 0.17663522064685822\n",
      "   75 0.2099960595369339\n",
      "   76 0.06039407476782799\n",
      "   77 0.19245058298110962\n",
      "   78 0.24229992926120758\n",
      "   79 0.17158184945583344\n",
      "   80 0.12277773767709732\n",
      "   81 0.0905020534992218\n",
      "   82 0.2353065460920334\n",
      "   83 0.2671375274658203\n",
      "   84 0.17511852085590363\n",
      "   85 0.15453384816646576\n",
      "   86 0.08234301954507828\n",
      "   87 0.09857720881700516\n",
      "   88 0.21788178384304047\n",
      "   89 0.12295296788215637\n",
      "   90 0.21901637315750122\n",
      "   91 0.19667364656925201\n",
      "   92 0.16941992938518524\n",
      "   93 0.10032561421394348\n",
      "   94 0.2145339846611023\n",
      "   95 0.11701390147209167\n",
      "   96 0.12992987036705017\n",
      "   97 0.220154270529747\n",
      "   98 0.08179847151041031\n",
      "   99 0.12731678783893585\n"
     ]
    }
   ],
   "source": [
    "def train(model, epochs, lr=LEARNING_RATE, do_log=True, log_every=1):\n",
    "  model.train()\n",
    "  opt = torch.optim.Adam(model.parameters(), lr=lr)\n",
    "\n",
    "  for epoch in tqdm(range(epochs)):\n",
    "    for X, Y in data:\n",
    "      X, Y = X.to(device), Y.to(device)\n",
    "      out = model(X)\n",
    "      loss = F.cross_entropy(out, Y)\n",
    "      opt.zero_grad()\n",
    "      loss.backward()\n",
    "      opt.step()\n",
    "    if do_log and epoch % log_every == 0:\n",
    "      print(f'{epoch:5} {loss.item()}')\n",
    "\n",
    "train(model, epochs=100)"
   ]
  },
  {
   "cell_type": "code",
   "execution_count": 37,
   "metadata": {},
   "outputs": [
    {
     "name": "stdout",
     "output_type": "stream",
     "text": [
      "accuracy on test : 0.9696999788284302\n",
      "accuracy on train: 0.9775333404541016\n"
     ]
    }
   ],
   "source": [
    "_ = accuracy(model)\n",
    "_ = accuracy(model, label='train')"
   ]
  },
  {
   "cell_type": "markdown",
   "metadata": {},
   "source": [
    "## checkpoint"
   ]
  },
  {
   "cell_type": "code",
   "execution_count": 34,
   "metadata": {},
   "outputs": [],
   "source": [
    "# save\n",
    "# ----\n",
    "# torch.save(model.state_dict(), 'weights/MNIST-2layers-1head-500epochs.pt')\n",
    "\n",
    "# load\n",
    "# ----\n",
    "# m = Net().to(device)\n",
    "# m.load_state_dict(torch.load('weights/MNIST.pt'))"
   ]
  },
  {
   "cell_type": "markdown",
   "metadata": {},
   "source": [
    "## visualize attention"
   ]
  },
  {
   "cell_type": "code",
   "execution_count": 35,
   "metadata": {},
   "outputs": [
    {
     "data": {
      "image/png": "[encoded data removed]",
      "text/plain": [
       "<Figure size 300x300 with 1 Axes>"
      ]
     },
     "metadata": {},
     "output_type": "display_data"
    },
    {
     "data": {
      "image/png": "[encoded data removed]",
      "text/plain": [
       "<Figure size 300x300 with 16 Axes>"
      ]
     },
     "metadata": {},
     "output_type": "display_data"
    },
    {
     "name": "stdout",
     "output_type": "stream",
     "text": [
      "6\n"
     ]
    },
    {
     "data": {
      "image/png": "[encoded data removed]",
      "text/plain": [
       "<Figure size 1200x400 with 1 Axes>"
      ]
     },
     "metadata": {},
     "output_type": "display_data"
    },
    {
     "data": {
      "image/png": "[encoded data removed]",
      "text/plain": [
       "<Figure size 1200x400 with 1 Axes>"
      ]
     },
     "metadata": {},
     "output_type": "display_data"
    }
   ],
   "source": [
    "@torch.no_grad()\n",
    "def visualize_attention(model, img):\n",
    "    model.eval()\n",
    "    plot(img)\n",
    "    tiles = einops.rearrange(img, 'c (h t1) (w t2) -> (h w) c t1 t2', t1=TILE_SIZE, t2=TILE_SIZE)\n",
    "    plot(tiles, n_col=4, block_size=0.75)\n",
    "    img = img.to(device).unsqueeze(0)\n",
    "    out = model(img).argmax(-1).item()\n",
    "    print(out)\n",
    "\n",
    "    for block, acts in activations.items():\n",
    "        if acts.dim() == 4:\n",
    "            acts = acts.squeeze(0)\n",
    "        repeat = acts.shape[0]\n",
    "        fig, ax = plt.subplots(1, repeat, figsize=(12, 4))\n",
    "        if repeat == 1: ax = np.array([ax])\n",
    "        for i in range(repeat):\n",
    "            ax[i].imshow(acts[i].cpu())\n",
    "            ax[i].set_title(f'block {block} head {i}')\n",
    "\n",
    "visualize_attention(model, next(iter(data))[0][0])"
   ]
  },
  {
   "cell_type": "markdown",
   "metadata": {},
   "source": [
    "## visualize positional embeddings"
   ]
  },
  {
   "cell_type": "code",
   "execution_count": 36,
   "metadata": {},
   "outputs": [
    {
     "data": {
      "image/png": "[encoded data removed]",
      "text/plain": [
       "<Figure size 400x400 with 16 Axes>"
      ]
     },
     "metadata": {},
     "output_type": "display_data"
    }
   ],
   "source": [
    "@torch.no_grad()\n",
    "def visualize_positional_embeddings(emb):\n",
    "    # strip cls token\n",
    "    emb = emb[1:]\n",
    "    emb = einops.rearrange(emb, 'n (k1 k2) -> n 1 k1 k2', k1=4)\n",
    "    plot(emb, n_col=4, block_size=1)\n",
    "\n",
    "visualize_positional_embeddings(model.get_positional_embedding())"
   ]
  }
 ],
 "metadata": {
  "kernelspec": {
   "display_name": "venv_hf_nlp",
   "language": "python",
   "name": "venv_hf_nlp"
  },
  "language_info": {
   "codemirror_mode": {
    "name": "ipython",
    "version": 3
   },
   "file_extension": ".py",
   "mimetype": "text/x-python",
   "name": "python",
   "nbconvert_exporter": "python",
   "pygments_lexer": "ipython3",
   "version": "3.11.2"
  }
 },
 "nbformat": 4,
 "nbformat_minor": 2
}
